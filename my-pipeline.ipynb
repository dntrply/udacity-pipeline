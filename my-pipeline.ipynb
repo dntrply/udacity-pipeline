{
  "cells": [
    {
      "cell_type": "code",
      "source": [
        "# Try and do the aml exercise independently\r\n",
        "# Create/USe a workspace\r\n",
        "\r\n",
        "from azureml.core import Workspace"
      ],
      "outputs": [],
      "execution_count": 1,
      "metadata": {
        "gather": {
          "logged": 1627516598662
        }
      }
    },
    {
      "cell_type": "code",
      "source": [
        "# Get the Workspace\r\n",
        "ws = Workspace.from_config()"
      ],
      "outputs": [],
      "execution_count": 2,
      "metadata": {
        "collapsed": true,
        "jupyter": {
          "source_hidden": false,
          "outputs_hidden": false
        },
        "nteract": {
          "transient": {
            "deleting": false
          }
        },
        "gather": {
          "logged": 1627516665115
        }
      }
    },
    {
      "cell_type": "code",
      "source": [
        "# print information abouyt the workspace\r\n",
        "ws.name"
      ],
      "outputs": [
        {
          "output_type": "execute_result",
          "execution_count": 3,
          "data": {
            "text/plain": "'quick-starts-ws-152869'"
          },
          "metadata": {}
        }
      ],
      "execution_count": 3,
      "metadata": {
        "collapsed": true,
        "jupyter": {
          "source_hidden": false,
          "outputs_hidden": false
        },
        "nteract": {
          "transient": {
            "deleting": false
          }
        },
        "gather": {
          "logged": 1627516689078
        }
      }
    },
    {
      "cell_type": "code",
      "source": [
        "print(f'Name: {ws.name}, Subscription Id: {ws.subscription_id}, Resorce Group: {ws.resource_group}, Location: {ws.location}')"
      ],
      "outputs": [
        {
          "output_type": "stream",
          "name": "stdout",
          "text": [
            "Name: quick-starts-ws-152869, Subscription Id: d7f39349-a66b-446e-aba6-0053c2cf1c11, Resorce Group: aml-quickstarts-152869, Location: southcentralus\n"
          ]
        }
      ],
      "execution_count": 5,
      "metadata": {
        "collapsed": true,
        "jupyter": {
          "source_hidden": false,
          "outputs_hidden": false
        },
        "nteract": {
          "transient": {
            "deleting": false
          }
        },
        "gather": {
          "logged": 1627517039123
        }
      }
    },
    {
      "cell_type": "code",
      "source": [
        "# Create an experiment for the run\r\n",
        "from azureml.core import Experiment\r\n",
        "\r\n",
        "exp = Experiment(workspace=ws, name=\"my-automl-exp\")"
      ],
      "outputs": [],
      "execution_count": 6,
      "metadata": {
        "collapsed": true,
        "jupyter": {
          "source_hidden": false,
          "outputs_hidden": false
        },
        "nteract": {
          "transient": {
            "deleting": false
          }
        },
        "gather": {
          "logged": 1627517134626
        }
      }
    },
    {
      "cell_type": "code",
      "source": [
        "exp"
      ],
      "outputs": [
        {
          "output_type": "execute_result",
          "execution_count": 7,
          "data": {
            "text/plain": "Experiment(Name: my-automl-exp,\nWorkspace: quick-starts-ws-152869)",
            "text/html": "<table style=\"width:100%\"><tr><th>Name</th><th>Workspace</th><th>Report Page</th><th>Docs Page</th></tr><tr><td>my-automl-exp</td><td>quick-starts-ws-152869</td><td><a href=\"https://ml.azure.com/experiments/id/5659d249-01ec-429a-8b45-d04dcbc91f20?wsid=/subscriptions/d7f39349-a66b-446e-aba6-0053c2cf1c11/resourcegroups/aml-quickstarts-152869/workspaces/quick-starts-ws-152869&amp;tid=660b3398-b80e-49d2-bc5b-ac1dc93b5254\" target=\"_blank\" rel=\"noopener\">Link to Azure Machine Learning studio</a></td><td><a href=\"https://docs.microsoft.com/en-us/python/api/azureml-core/azureml.core.experiment.Experiment?view=azure-ml-py\" target=\"_blank\" rel=\"noopener\">Link to Documentation</a></td></tr></table>"
          },
          "metadata": {}
        }
      ],
      "execution_count": 7,
      "metadata": {
        "collapsed": true,
        "jupyter": {
          "source_hidden": false,
          "outputs_hidden": false
        },
        "nteract": {
          "transient": {
            "deleting": false
          }
        },
        "gather": {
          "logged": 1627517301347
        }
      }
    },
    {
      "cell_type": "code",
      "source": [
        "# Next, we will create/attach a compute cluster\r\n",
        "# Access the cluster. if non-existent, then create one\r\n",
        "compute_cluster_name = \"my-cc\"\r\n",
        "\r\n",
        "from azureml.core.compute import ComputeTarget\r\n",
        "from azureml.exceptions import ComputeTargetException\r\n",
        "from azureml.core.compute import AmlCompute\r\n",
        "\r\n",
        "\r\n"
      ],
      "outputs": [],
      "execution_count": 21,
      "metadata": {
        "collapsed": true,
        "jupyter": {
          "source_hidden": false,
          "outputs_hidden": false
        },
        "nteract": {
          "transient": {
            "deleting": false
          }
        },
        "gather": {
          "logged": 1627519750392
        }
      }
    },
    {
      "cell_type": "code",
      "source": [
        "try:\r\n",
        "    compute_cluster = ComputeTarget(workspace=ws, name=compute_cluster_name)\r\n",
        "except ComputeTargetException:\r\n",
        "    # Cluster does not exist - create it\r\n",
        "    prov_cfg = AmlCompute.provisioning_configuration(vm_size=\"Standard_DS3_v2\", max_nodes=4, description=\"Pipeline cfg\")\r\n",
        "\r\n",
        "    compute_cluster = ComputeTarget.create(ws, compute_cluster_name, prov_cfg)"
      ],
      "outputs": [],
      "execution_count": 22,
      "metadata": {
        "collapsed": true,
        "jupyter": {
          "source_hidden": false,
          "outputs_hidden": false
        },
        "nteract": {
          "transient": {
            "deleting": false
          }
        },
        "gather": {
          "logged": 1627519755924
        }
      }
    },
    {
      "cell_type": "code",
      "source": [
        "# Wait for compute cluster to be built\r\n",
        "compute_cluster.wait_for_completion(show_output=True)"
      ],
      "outputs": [
        {
          "output_type": "stream",
          "name": "stdout",
          "text": [
            "SucceededProvisioning operation finished, operation \"Succeeded\"\n",
            "Succeeded\n",
            "AmlCompute wait for completion finished\n",
            "\n",
            "Minimum number of nodes requested have been provisioned\n"
          ]
        }
      ],
      "execution_count": 23,
      "metadata": {
        "collapsed": true,
        "jupyter": {
          "source_hidden": false,
          "outputs_hidden": false
        },
        "nteract": {
          "transient": {
            "deleting": false
          }
        },
        "gather": {
          "logged": 1627519816860
        }
      }
    },
    {
      "cell_type": "code",
      "source": [
        "# We next to retrieve the Dataset\r\n",
        "# 'https://raw.githubusercontent.com/Azure/MachineLearningNotebooks/master/how-to-use-azureml/automated-machine-learning/forecasting-bike-share/bike-no.csv'\r\n",
        "# Once retrieved - this dataset will subsequently be used for the model\r\n",
        "\r\n",
        "# Loop through the WorkSpace datasets and see if our datset already exists\r\n",
        "# if not, create the dataset\r\n"
      ],
      "outputs": [],
      "execution_count": null,
      "metadata": {
        "collapsed": true,
        "jupyter": {
          "source_hidden": false,
          "outputs_hidden": false
        },
        "nteract": {
          "transient": {
            "deleting": false
          }
        }
      }
    },
    {
      "cell_type": "code",
      "source": [
        "# We next specify the Pipeline, starting with the configuration\r\n"
      ],
      "outputs": [],
      "execution_count": null,
      "metadata": {
        "collapsed": true,
        "jupyter": {
          "source_hidden": false,
          "outputs_hidden": false
        },
        "nteract": {
          "transient": {
            "deleting": false
          }
        }
      }
    }
  ],
  "metadata": {
    "kernelspec": {
      "name": "python3-azureml",
      "language": "python",
      "display_name": "Python 3.6 - AzureML"
    },
    "language_info": {
      "name": "python",
      "version": "3.6.9",
      "mimetype": "text/x-python",
      "codemirror_mode": {
        "name": "ipython",
        "version": 3
      },
      "pygments_lexer": "ipython3",
      "nbconvert_exporter": "python",
      "file_extension": ".py"
    },
    "kernel_info": {
      "name": "python3-azureml"
    },
    "nteract": {
      "version": "nteract-front-end@1.0.0"
    },
    "microsoft": {
      "host": {
        "AzureML": {
          "notebookHasBeenCompleted": true
        }
      }
    }
  },
  "nbformat": 4,
  "nbformat_minor": 2
}
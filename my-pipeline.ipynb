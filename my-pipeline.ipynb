{
  "cells": [
    {
      "cell_type": "code",
      "source": [
        "# Try and do the aml exercise independently\r\n",
        "# Create/USe a workspace\r\n",
        "\r\n",
        "from azureml.core import Workspace"
      ],
      "outputs": [],
      "execution_count": 1,
      "metadata": {
        "gather": {
          "logged": 1627613165260
        }
      }
    },
    {
      "cell_type": "code",
      "source": [
        "# Get the Workspace\r\n",
        "ws = Workspace.from_config()"
      ],
      "outputs": [],
      "execution_count": 2,
      "metadata": {
        "collapsed": true,
        "jupyter": {
          "source_hidden": false,
          "outputs_hidden": false
        },
        "nteract": {
          "transient": {
            "deleting": false
          }
        },
        "gather": {
          "logged": 1627613165869
        }
      }
    },
    {
      "cell_type": "code",
      "source": [
        "print(f'Name: {ws.name}, Subscription Id: {ws.subscription_id}, Resorce Group: {ws.resource_group}, Location: {ws.location}')"
      ],
      "outputs": [
        {
          "output_type": "stream",
          "name": "stdout",
          "text": [
            "Name: quick-starts-ws-152981, Subscription Id: 61c5c3f0-6dc7-4ed9-a7f3-c704b20e3b30, Resorce Group: aml-quickstarts-152981, Location: southcentralus\n"
          ]
        }
      ],
      "execution_count": 3,
      "metadata": {
        "collapsed": true,
        "jupyter": {
          "source_hidden": false,
          "outputs_hidden": false
        },
        "nteract": {
          "transient": {
            "deleting": false
          }
        },
        "gather": {
          "logged": 1627613166158
        }
      }
    },
    {
      "cell_type": "code",
      "source": [
        "# Create an experiment for the run\r\n",
        "from azureml.core import Experiment\r\n",
        "\r\n",
        "exp = Experiment(workspace=ws, name=\"my-automl-exp\")"
      ],
      "outputs": [],
      "execution_count": 4,
      "metadata": {
        "collapsed": true,
        "jupyter": {
          "source_hidden": false,
          "outputs_hidden": false
        },
        "nteract": {
          "transient": {
            "deleting": false
          }
        },
        "gather": {
          "logged": 1627613167368
        }
      }
    },
    {
      "cell_type": "code",
      "source": [
        "exp"
      ],
      "outputs": [
        {
          "output_type": "execute_result",
          "execution_count": 5,
          "data": {
            "text/plain": "Experiment(Name: my-automl-exp,\nWorkspace: quick-starts-ws-152981)",
            "text/html": "<table style=\"width:100%\"><tr><th>Name</th><th>Workspace</th><th>Report Page</th><th>Docs Page</th></tr><tr><td>my-automl-exp</td><td>quick-starts-ws-152981</td><td><a href=\"https://ml.azure.com/experiments/id/dfa6c405-2097-46bf-82b9-7a74c733a96e?wsid=/subscriptions/61c5c3f0-6dc7-4ed9-a7f3-c704b20e3b30/resourcegroups/aml-quickstarts-152981/workspaces/quick-starts-ws-152981&amp;tid=660b3398-b80e-49d2-bc5b-ac1dc93b5254\" target=\"_blank\" rel=\"noopener\">Link to Azure Machine Learning studio</a></td><td><a href=\"https://docs.microsoft.com/en-us/python/api/azureml-core/azureml.core.experiment.Experiment?view=azure-ml-py\" target=\"_blank\" rel=\"noopener\">Link to Documentation</a></td></tr></table>"
          },
          "metadata": {}
        }
      ],
      "execution_count": 5,
      "metadata": {
        "collapsed": true,
        "jupyter": {
          "source_hidden": false,
          "outputs_hidden": false
        },
        "nteract": {
          "transient": {
            "deleting": false
          }
        },
        "gather": {
          "logged": 1627613167747
        }
      }
    },
    {
      "cell_type": "code",
      "source": [
        "# Next, we will create/attach a compute cluster\r\n",
        "# Access the cluster. if non-existent, then create one\r\n",
        "compute_cluster_name = \"my-cc\"\r\n",
        "\r\n",
        "from azureml.core.compute import ComputeTarget\r\n",
        "from azureml.exceptions import ComputeTargetException\r\n",
        "from azureml.core.compute import AmlCompute\r\n",
        "\r\n",
        "\r\n"
      ],
      "outputs": [],
      "execution_count": 6,
      "metadata": {
        "collapsed": true,
        "jupyter": {
          "source_hidden": false,
          "outputs_hidden": false
        },
        "nteract": {
          "transient": {
            "deleting": false
          }
        },
        "gather": {
          "logged": 1627613168016
        }
      }
    },
    {
      "cell_type": "code",
      "source": [
        "try:\r\n",
        "    compute_cluster = ComputeTarget(workspace=ws, name=compute_cluster_name)\r\n",
        "except ComputeTargetException:\r\n",
        "    # Cluster does not exist - create it\r\n",
        "    prov_cfg = AmlCompute.provisioning_configuration(vm_size=\"Standard_DS3_v2\", max_nodes=4, description=\"Pipeline cfg\")\r\n",
        "\r\n",
        "    compute_cluster = ComputeTarget.create(ws, compute_cluster_name, prov_cfg)"
      ],
      "outputs": [],
      "execution_count": 7,
      "metadata": {
        "collapsed": true,
        "jupyter": {
          "source_hidden": false,
          "outputs_hidden": false
        },
        "nteract": {
          "transient": {
            "deleting": false
          }
        },
        "gather": {
          "logged": 1627613168655
        }
      }
    },
    {
      "cell_type": "code",
      "source": [
        "# Wait for compute cluster to be built\r\n",
        "compute_cluster.wait_for_completion(show_output=True)"
      ],
      "outputs": [
        {
          "output_type": "stream",
          "name": "stdout",
          "text": [
            "Creating......\n",
            "SucceededProvisioning operation finished, operation \"Succeeded\"\n",
            "Succeeded\n",
            "AmlCompute wait for completion finished\n",
            "\n",
            "Minimum number of nodes requested have been provisioned\n"
          ]
        }
      ],
      "execution_count": 8,
      "metadata": {
        "collapsed": true,
        "jupyter": {
          "source_hidden": false,
          "outputs_hidden": false
        },
        "nteract": {
          "transient": {
            "deleting": false
          }
        },
        "gather": {
          "logged": 1627613199758
        }
      }
    },
    {
      "cell_type": "code",
      "source": [
        "# We next to retrieve the Dataset\r\n",
        "# 'https://raw.githubusercontent.com/Azure/MachineLearningNotebooks/master/how-to-use-azureml/automated-machine-learning/forecasting-bike-share/bike-no.csv'\r\n",
        "# Once retrieved - this dataset will subsequently be used for the model\r\n",
        "\r\n",
        "# Loop through the WorkSpace datasets and see if our datset already exists\r\n",
        "# if not, create the dataset\r\n",
        "from azureml.core.dataset import Dataset\r\n",
        "uri = 'https://raw.githubusercontent.com/Azure/MachineLearningNotebooks/master/how-to-use-azureml/automated-machine-learning/forecasting-bike-share/bike-no.csv'\r\n",
        "\r\n",
        "ds = Dataset.Tabular.from_delimited_files(uri)\r\n"
      ],
      "outputs": [],
      "execution_count": 9,
      "metadata": {
        "collapsed": true,
        "jupyter": {
          "source_hidden": false,
          "outputs_hidden": false
        },
        "nteract": {
          "transient": {
            "deleting": false
          }
        },
        "gather": {
          "logged": 1627613204714
        }
      }
    },
    {
      "cell_type": "code",
      "source": [
        "# We next specify the Pipeline, starting with the configuration\r\n",
        "ds"
      ],
      "outputs": [
        {
          "output_type": "execute_result",
          "execution_count": 10,
          "data": {
            "text/plain": "{\n  \"source\": [\n    \"https://raw.githubusercontent.com/Azure/MachineLearningNotebooks/master/how-to-use-azureml/automated-machine-learning/forecasting-bike-share/bike-no.csv\"\n  ],\n  \"definition\": [\n    \"GetFiles\",\n    \"ParseDelimited\",\n    \"DropColumns\",\n    \"SetColumnTypes\"\n  ]\n}"
          },
          "metadata": {}
        }
      ],
      "execution_count": 10,
      "metadata": {
        "collapsed": true,
        "jupyter": {
          "source_hidden": false,
          "outputs_hidden": false
        },
        "nteract": {
          "transient": {
            "deleting": false
          }
        },
        "gather": {
          "logged": 1627613205102
        }
      }
    },
    {
      "cell_type": "code",
      "source": [
        "df = ds.to_pandas_dataframe()"
      ],
      "outputs": [],
      "execution_count": 11,
      "metadata": {
        "collapsed": true,
        "jupyter": {
          "source_hidden": false,
          "outputs_hidden": false
        },
        "nteract": {
          "transient": {
            "deleting": false
          }
        },
        "gather": {
          "logged": 1627613211551
        }
      }
    },
    {
      "cell_type": "code",
      "source": [
        "df.describe()"
      ],
      "outputs": [
        {
          "output_type": "execute_result",
          "execution_count": 12,
          "data": {
            "text/plain": "          instant      season          yr        mnth     weekday  weathersit  \\\ncount  731.000000  731.000000  731.000000  731.000000  731.000000  731.000000   \nmean   366.000000    2.496580    0.500684    6.519836    2.997264    1.395349   \nstd    211.165812    1.110807    0.500342    3.451913    2.004787    0.544894   \nmin      1.000000    1.000000    0.000000    1.000000    0.000000    1.000000   \n25%    183.500000    2.000000    0.000000    4.000000    1.000000    1.000000   \n50%    366.000000    3.000000    1.000000    7.000000    3.000000    1.000000   \n75%    548.500000    3.000000    1.000000   10.000000    5.000000    2.000000   \nmax    731.000000    4.000000    1.000000   12.000000    6.000000    3.000000   \n\n             temp       atemp         hum   windspeed       casual  \\\ncount  731.000000  731.000000  731.000000  731.000000   731.000000   \nmean     0.495385    0.474354    0.627894    0.190486   848.176471   \nstd      0.183051    0.162961    0.142429    0.077498   686.622488   \nmin      0.059130    0.079070    0.000000    0.022392     2.000000   \n25%      0.337083    0.337842    0.520000    0.134950   315.500000   \n50%      0.498333    0.486733    0.626667    0.180975   713.000000   \n75%      0.655417    0.608602    0.730209    0.233214  1096.000000   \nmax      0.861667    0.840896    0.972500    0.507463  3410.000000   \n\n        registered          cnt  \ncount   731.000000   731.000000  \nmean   3656.172367  4504.348837  \nstd    1560.256377  1937.211452  \nmin      20.000000    22.000000  \n25%    2497.000000  3152.000000  \n50%    3662.000000  4548.000000  \n75%    4776.500000  5956.000000  \nmax    6946.000000  8714.000000  ",
            "text/html": "<div>\n<style scoped>\n    .dataframe tbody tr th:only-of-type {\n        vertical-align: middle;\n    }\n\n    .dataframe tbody tr th {\n        vertical-align: top;\n    }\n\n    .dataframe thead th {\n        text-align: right;\n    }\n</style>\n<table border=\"1\" class=\"dataframe\">\n  <thead>\n    <tr style=\"text-align: right;\">\n      <th></th>\n      <th>instant</th>\n      <th>season</th>\n      <th>yr</th>\n      <th>mnth</th>\n      <th>weekday</th>\n      <th>weathersit</th>\n      <th>temp</th>\n      <th>atemp</th>\n      <th>hum</th>\n      <th>windspeed</th>\n      <th>casual</th>\n      <th>registered</th>\n      <th>cnt</th>\n    </tr>\n  </thead>\n  <tbody>\n    <tr>\n      <th>count</th>\n      <td>731.000000</td>\n      <td>731.000000</td>\n      <td>731.000000</td>\n      <td>731.000000</td>\n      <td>731.000000</td>\n      <td>731.000000</td>\n      <td>731.000000</td>\n      <td>731.000000</td>\n      <td>731.000000</td>\n      <td>731.000000</td>\n      <td>731.000000</td>\n      <td>731.000000</td>\n      <td>731.000000</td>\n    </tr>\n    <tr>\n      <th>mean</th>\n      <td>366.000000</td>\n      <td>2.496580</td>\n      <td>0.500684</td>\n      <td>6.519836</td>\n      <td>2.997264</td>\n      <td>1.395349</td>\n      <td>0.495385</td>\n      <td>0.474354</td>\n      <td>0.627894</td>\n      <td>0.190486</td>\n      <td>848.176471</td>\n      <td>3656.172367</td>\n      <td>4504.348837</td>\n    </tr>\n    <tr>\n      <th>std</th>\n      <td>211.165812</td>\n      <td>1.110807</td>\n      <td>0.500342</td>\n      <td>3.451913</td>\n      <td>2.004787</td>\n      <td>0.544894</td>\n      <td>0.183051</td>\n      <td>0.162961</td>\n      <td>0.142429</td>\n      <td>0.077498</td>\n      <td>686.622488</td>\n      <td>1560.256377</td>\n      <td>1937.211452</td>\n    </tr>\n    <tr>\n      <th>min</th>\n      <td>1.000000</td>\n      <td>1.000000</td>\n      <td>0.000000</td>\n      <td>1.000000</td>\n      <td>0.000000</td>\n      <td>1.000000</td>\n      <td>0.059130</td>\n      <td>0.079070</td>\n      <td>0.000000</td>\n      <td>0.022392</td>\n      <td>2.000000</td>\n      <td>20.000000</td>\n      <td>22.000000</td>\n    </tr>\n    <tr>\n      <th>25%</th>\n      <td>183.500000</td>\n      <td>2.000000</td>\n      <td>0.000000</td>\n      <td>4.000000</td>\n      <td>1.000000</td>\n      <td>1.000000</td>\n      <td>0.337083</td>\n      <td>0.337842</td>\n      <td>0.520000</td>\n      <td>0.134950</td>\n      <td>315.500000</td>\n      <td>2497.000000</td>\n      <td>3152.000000</td>\n    </tr>\n    <tr>\n      <th>50%</th>\n      <td>366.000000</td>\n      <td>3.000000</td>\n      <td>1.000000</td>\n      <td>7.000000</td>\n      <td>3.000000</td>\n      <td>1.000000</td>\n      <td>0.498333</td>\n      <td>0.486733</td>\n      <td>0.626667</td>\n      <td>0.180975</td>\n      <td>713.000000</td>\n      <td>3662.000000</td>\n      <td>4548.000000</td>\n    </tr>\n    <tr>\n      <th>75%</th>\n      <td>548.500000</td>\n      <td>3.000000</td>\n      <td>1.000000</td>\n      <td>10.000000</td>\n      <td>5.000000</td>\n      <td>2.000000</td>\n      <td>0.655417</td>\n      <td>0.608602</td>\n      <td>0.730209</td>\n      <td>0.233214</td>\n      <td>1096.000000</td>\n      <td>4776.500000</td>\n      <td>5956.000000</td>\n    </tr>\n    <tr>\n      <th>max</th>\n      <td>731.000000</td>\n      <td>4.000000</td>\n      <td>1.000000</td>\n      <td>12.000000</td>\n      <td>6.000000</td>\n      <td>3.000000</td>\n      <td>0.861667</td>\n      <td>0.840896</td>\n      <td>0.972500</td>\n      <td>0.507463</td>\n      <td>3410.000000</td>\n      <td>6946.000000</td>\n      <td>8714.000000</td>\n    </tr>\n  </tbody>\n</table>\n</div>"
          },
          "metadata": {}
        }
      ],
      "execution_count": 12,
      "metadata": {
        "collapsed": true,
        "jupyter": {
          "source_hidden": false,
          "outputs_hidden": false
        },
        "nteract": {
          "transient": {
            "deleting": false
          }
        },
        "gather": {
          "logged": 1627613212071
        }
      }
    },
    {
      "cell_type": "code",
      "source": [
        "# Register the dataset that is created\r\n",
        "key = \"Bikesharing Dataset\"\r\n",
        "description = \"Bike Sharing Data\"\r\n",
        "reg_ds = ds.register(ws, name=key, description=description)"
      ],
      "outputs": [],
      "execution_count": 13,
      "metadata": {
        "collapsed": true,
        "jupyter": {
          "source_hidden": false,
          "outputs_hidden": false
        },
        "nteract": {
          "transient": {
            "deleting": false
          }
        },
        "gather": {
          "logged": 1627613212643
        }
      }
    },
    {
      "cell_type": "code",
      "source": [
        "reg_ds"
      ],
      "outputs": [
        {
          "output_type": "execute_result",
          "execution_count": 14,
          "data": {
            "text/plain": "{\n  \"source\": [\n    \"https://raw.githubusercontent.com/Azure/MachineLearningNotebooks/master/how-to-use-azureml/automated-machine-learning/forecasting-bike-share/bike-no.csv\"\n  ],\n  \"definition\": [\n    \"GetFiles\",\n    \"ParseDelimited\",\n    \"DropColumns\",\n    \"SetColumnTypes\"\n  ],\n  \"registration\": {\n    \"id\": \"4959b7b0-f7a7-4f86-8612-5c2dd14948e5\",\n    \"name\": \"Bikesharing Dataset\",\n    \"version\": 1,\n    \"description\": \"Bike Sharing Data\",\n    \"workspace\": \"Workspace.create(name='quick-starts-ws-152981', subscription_id='61c5c3f0-6dc7-4ed9-a7f3-c704b20e3b30', resource_group='aml-quickstarts-152981')\"\n  }\n}"
          },
          "metadata": {}
        }
      ],
      "execution_count": 14,
      "metadata": {
        "collapsed": true,
        "jupyter": {
          "source_hidden": false,
          "outputs_hidden": false
        },
        "nteract": {
          "transient": {
            "deleting": false
          }
        },
        "gather": {
          "logged": 1627613212885
        }
      }
    },
    {
      "cell_type": "code",
      "source": [
        "reg_df = reg_ds.to_pandas_dataframe()\r\n",
        "reg_df.describe()"
      ],
      "outputs": [
        {
          "output_type": "execute_result",
          "execution_count": 15,
          "data": {
            "text/plain": "          instant      season          yr        mnth     weekday  weathersit  \\\ncount  731.000000  731.000000  731.000000  731.000000  731.000000  731.000000   \nmean   366.000000    2.496580    0.500684    6.519836    2.997264    1.395349   \nstd    211.165812    1.110807    0.500342    3.451913    2.004787    0.544894   \nmin      1.000000    1.000000    0.000000    1.000000    0.000000    1.000000   \n25%    183.500000    2.000000    0.000000    4.000000    1.000000    1.000000   \n50%    366.000000    3.000000    1.000000    7.000000    3.000000    1.000000   \n75%    548.500000    3.000000    1.000000   10.000000    5.000000    2.000000   \nmax    731.000000    4.000000    1.000000   12.000000    6.000000    3.000000   \n\n             temp       atemp         hum   windspeed       casual  \\\ncount  731.000000  731.000000  731.000000  731.000000   731.000000   \nmean     0.495385    0.474354    0.627894    0.190486   848.176471   \nstd      0.183051    0.162961    0.142429    0.077498   686.622488   \nmin      0.059130    0.079070    0.000000    0.022392     2.000000   \n25%      0.337083    0.337842    0.520000    0.134950   315.500000   \n50%      0.498333    0.486733    0.626667    0.180975   713.000000   \n75%      0.655417    0.608602    0.730209    0.233214  1096.000000   \nmax      0.861667    0.840896    0.972500    0.507463  3410.000000   \n\n        registered          cnt  \ncount   731.000000   731.000000  \nmean   3656.172367  4504.348837  \nstd    1560.256377  1937.211452  \nmin      20.000000    22.000000  \n25%    2497.000000  3152.000000  \n50%    3662.000000  4548.000000  \n75%    4776.500000  5956.000000  \nmax    6946.000000  8714.000000  ",
            "text/html": "<div>\n<style scoped>\n    .dataframe tbody tr th:only-of-type {\n        vertical-align: middle;\n    }\n\n    .dataframe tbody tr th {\n        vertical-align: top;\n    }\n\n    .dataframe thead th {\n        text-align: right;\n    }\n</style>\n<table border=\"1\" class=\"dataframe\">\n  <thead>\n    <tr style=\"text-align: right;\">\n      <th></th>\n      <th>instant</th>\n      <th>season</th>\n      <th>yr</th>\n      <th>mnth</th>\n      <th>weekday</th>\n      <th>weathersit</th>\n      <th>temp</th>\n      <th>atemp</th>\n      <th>hum</th>\n      <th>windspeed</th>\n      <th>casual</th>\n      <th>registered</th>\n      <th>cnt</th>\n    </tr>\n  </thead>\n  <tbody>\n    <tr>\n      <th>count</th>\n      <td>731.000000</td>\n      <td>731.000000</td>\n      <td>731.000000</td>\n      <td>731.000000</td>\n      <td>731.000000</td>\n      <td>731.000000</td>\n      <td>731.000000</td>\n      <td>731.000000</td>\n      <td>731.000000</td>\n      <td>731.000000</td>\n      <td>731.000000</td>\n      <td>731.000000</td>\n      <td>731.000000</td>\n    </tr>\n    <tr>\n      <th>mean</th>\n      <td>366.000000</td>\n      <td>2.496580</td>\n      <td>0.500684</td>\n      <td>6.519836</td>\n      <td>2.997264</td>\n      <td>1.395349</td>\n      <td>0.495385</td>\n      <td>0.474354</td>\n      <td>0.627894</td>\n      <td>0.190486</td>\n      <td>848.176471</td>\n      <td>3656.172367</td>\n      <td>4504.348837</td>\n    </tr>\n    <tr>\n      <th>std</th>\n      <td>211.165812</td>\n      <td>1.110807</td>\n      <td>0.500342</td>\n      <td>3.451913</td>\n      <td>2.004787</td>\n      <td>0.544894</td>\n      <td>0.183051</td>\n      <td>0.162961</td>\n      <td>0.142429</td>\n      <td>0.077498</td>\n      <td>686.622488</td>\n      <td>1560.256377</td>\n      <td>1937.211452</td>\n    </tr>\n    <tr>\n      <th>min</th>\n      <td>1.000000</td>\n      <td>1.000000</td>\n      <td>0.000000</td>\n      <td>1.000000</td>\n      <td>0.000000</td>\n      <td>1.000000</td>\n      <td>0.059130</td>\n      <td>0.079070</td>\n      <td>0.000000</td>\n      <td>0.022392</td>\n      <td>2.000000</td>\n      <td>20.000000</td>\n      <td>22.000000</td>\n    </tr>\n    <tr>\n      <th>25%</th>\n      <td>183.500000</td>\n      <td>2.000000</td>\n      <td>0.000000</td>\n      <td>4.000000</td>\n      <td>1.000000</td>\n      <td>1.000000</td>\n      <td>0.337083</td>\n      <td>0.337842</td>\n      <td>0.520000</td>\n      <td>0.134950</td>\n      <td>315.500000</td>\n      <td>2497.000000</td>\n      <td>3152.000000</td>\n    </tr>\n    <tr>\n      <th>50%</th>\n      <td>366.000000</td>\n      <td>3.000000</td>\n      <td>1.000000</td>\n      <td>7.000000</td>\n      <td>3.000000</td>\n      <td>1.000000</td>\n      <td>0.498333</td>\n      <td>0.486733</td>\n      <td>0.626667</td>\n      <td>0.180975</td>\n      <td>713.000000</td>\n      <td>3662.000000</td>\n      <td>4548.000000</td>\n    </tr>\n    <tr>\n      <th>75%</th>\n      <td>548.500000</td>\n      <td>3.000000</td>\n      <td>1.000000</td>\n      <td>10.000000</td>\n      <td>5.000000</td>\n      <td>2.000000</td>\n      <td>0.655417</td>\n      <td>0.608602</td>\n      <td>0.730209</td>\n      <td>0.233214</td>\n      <td>1096.000000</td>\n      <td>4776.500000</td>\n      <td>5956.000000</td>\n    </tr>\n    <tr>\n      <th>max</th>\n      <td>731.000000</td>\n      <td>4.000000</td>\n      <td>1.000000</td>\n      <td>12.000000</td>\n      <td>6.000000</td>\n      <td>3.000000</td>\n      <td>0.861667</td>\n      <td>0.840896</td>\n      <td>0.972500</td>\n      <td>0.507463</td>\n      <td>3410.000000</td>\n      <td>6946.000000</td>\n      <td>8714.000000</td>\n    </tr>\n  </tbody>\n</table>\n</div>"
          },
          "metadata": {}
        }
      ],
      "execution_count": 15,
      "metadata": {
        "collapsed": true,
        "jupyter": {
          "source_hidden": false,
          "outputs_hidden": false
        },
        "nteract": {
          "transient": {
            "deleting": false
          }
        },
        "gather": {
          "logged": 1627613213221
        }
      }
    },
    {
      "cell_type": "code",
      "source": [
        "reg_df.columns"
      ],
      "outputs": [
        {
          "output_type": "execute_result",
          "execution_count": 20,
          "data": {
            "text/plain": "Index(['instant', 'date', 'season', 'yr', 'mnth', 'weekday', 'weathersit',\n       'temp', 'atemp', 'hum', 'windspeed', 'casual', 'registered', 'cnt'],\n      dtype='object')"
          },
          "metadata": {}
        }
      ],
      "execution_count": 20,
      "metadata": {
        "collapsed": true,
        "jupyter": {
          "source_hidden": false,
          "outputs_hidden": false
        },
        "nteract": {
          "transient": {
            "deleting": false
          }
        },
        "gather": {
          "logged": 1627617679573
        }
      }
    },
    {
      "cell_type": "code",
      "source": [
        "if key in ws.datasets.keys(): \r\n",
        "        found = True\r\n",
        "        dataset = ws.datasets[key] \r\n"
      ],
      "outputs": [],
      "execution_count": 16,
      "metadata": {
        "collapsed": true,
        "jupyter": {
          "source_hidden": false,
          "outputs_hidden": false
        },
        "nteract": {
          "transient": {
            "deleting": false
          }
        },
        "gather": {
          "logged": 1627613213464
        }
      }
    },
    {
      "cell_type": "code",
      "source": [
        "print(f'{key}')"
      ],
      "outputs": [
        {
          "output_type": "stream",
          "name": "stdout",
          "text": [
            "Bikesharing Dataset\n"
          ]
        }
      ],
      "execution_count": 17,
      "metadata": {
        "collapsed": true,
        "jupyter": {
          "source_hidden": false,
          "outputs_hidden": false
        },
        "nteract": {
          "transient": {
            "deleting": false
          }
        },
        "gather": {
          "logged": 1627613213677
        }
      }
    },
    {
      "cell_type": "code",
      "source": [
        "from azureml.pipeline.core import Pipeline\r\n"
      ],
      "outputs": [],
      "execution_count": 18,
      "metadata": {
        "collapsed": true,
        "jupyter": {
          "source_hidden": false,
          "outputs_hidden": false
        },
        "nteract": {
          "transient": {
            "deleting": false
          }
        },
        "gather": {
          "logged": 1627613214116
        }
      }
    },
    {
      "cell_type": "code",
      "source": [
        "ml_pipeline = Pipeline(\r\n",
        "    description=description,\r\n",
        "    workspace=ws,\r\n",
        "    steps=[]\r\n",
        ")"
      ],
      "outputs": [],
      "execution_count": 19,
      "metadata": {
        "collapsed": true,
        "jupyter": {
          "source_hidden": false,
          "outputs_hidden": false
        },
        "nteract": {
          "transient": {
            "deleting": false
          }
        },
        "gather": {
          "logged": 1627613215579
        }
      }
    },
    {
      "cell_type": "code",
      "source": [
        "# We will specify the AutoMLStep in this instance\r\n",
        "from azureml.pipeline.steps.automl_step import AutoMLStep\r\n",
        "from azureml.pipeline.core import PipelineData\r\n",
        "from azureml.pipeline.core import TrainingOutput\r\n",
        "from azureml.train.automl.automlconfig import AutoMLConfig\r\n"
      ],
      "outputs": [],
      "execution_count": 22,
      "metadata": {
        "collapsed": true,
        "jupyter": {
          "source_hidden": false,
          "outputs_hidden": false
        },
        "nteract": {
          "transient": {
            "deleting": false
          }
        },
        "gather": {
          "logged": 1627618763353
        }
      }
    },
    {
      "cell_type": "code",
      "source": [
        "project_folder = 'pipeline-bike-folder'\r\n",
        "\r\n",
        "automl_settings={\r\n",
        "    'experiment_timeout_minutes':20,\r\n",
        "    'max_concurrent_iterations':5,\r\n",
        "    'primary_metric':'normalized_root_mean_squared_error',\r\n",
        "    'n_cross_validations':5,\r\n",
        "}\r\n",
        "\r\n",
        "automl_config = AutoMLConfig(\r\n",
        "    compute_target = compute_cluster,\r\n",
        "    task='forecasting',\r\n",
        "    training_data=reg_ds,\r\n",
        "    time_column_name='date',\r\n",
        "    label_column_name='cnt',\r\n",
        "    path=project_folder,\r\n",
        "    enable_early_stopping=True,\r\n",
        "    debug_log='automl_errors.log',\r\n",
        "    **automl_settings,\r\n",
        ")\r\n"
      ],
      "outputs": [],
      "execution_count": 23,
      "metadata": {
        "collapsed": true,
        "jupyter": {
          "source_hidden": false,
          "outputs_hidden": false
        },
        "nteract": {
          "transient": {
            "deleting": false
          }
        },
        "gather": {
          "logged": 1627618963437
        }
      }
    },
    {
      "cell_type": "code",
      "source": [
        "\r\n",
        "ds = ws.get_default_datastore()\r\n",
        "\r\n",
        "# Define metrics_data, model_data to be used below in\r\n",
        "# AutoMLStep\r\n",
        "metrics_data = PipelineData(\r\n",
        "    name='metrics_data',\r\n",
        "    datastore=ds,\r\n",
        "    pipeline_output_name='metrics_output',\r\n",
        "    training_output=TrainingOutput(type='Metrics')\r\n",
        ")\r\n",
        "\r\n",
        "model_data = PipelineData(\r\n",
        "    name='model_data',\r\n",
        "    datastore=ds,\r\n",
        "    pipeline_output_name='best_model_output',\r\n",
        "    training_output=TrainingOutput(type='Model')\r\n",
        "\r\n",
        ")\r\n",
        "\r\n",
        "automlstep = AutoMLStep(\r\n",
        "    name=\"auto-ml-pipeline\",\r\n",
        "    automl_config=automl_config,\r\n",
        "    outputs=[metrics_data, model_data],\r\n",
        "    allow_reuse=True\r\n",
        ")"
      ],
      "outputs": [],
      "execution_count": 26,
      "metadata": {
        "collapsed": true,
        "jupyter": {
          "source_hidden": false,
          "outputs_hidden": false
        },
        "nteract": {
          "transient": {
            "deleting": false
          }
        },
        "gather": {
          "logged": 1627619080003
        }
      }
    },
    {
      "cell_type": "code",
      "source": [],
      "outputs": [],
      "execution_count": null,
      "metadata": {
        "collapsed": true,
        "jupyter": {
          "source_hidden": false,
          "outputs_hidden": false
        },
        "nteract": {
          "transient": {
            "deleting": false
          }
        }
      }
    }
  ],
  "metadata": {
    "kernelspec": {
      "name": "python3-azureml",
      "language": "python",
      "display_name": "Python 3.6 - AzureML"
    },
    "language_info": {
      "name": "python",
      "version": "3.6.9",
      "mimetype": "text/x-python",
      "codemirror_mode": {
        "name": "ipython",
        "version": 3
      },
      "pygments_lexer": "ipython3",
      "nbconvert_exporter": "python",
      "file_extension": ".py"
    },
    "kernel_info": {
      "name": "python3-azureml"
    },
    "nteract": {
      "version": "nteract-front-end@1.0.0"
    },
    "microsoft": {
      "host": {
        "AzureML": {
          "notebookHasBeenCompleted": true
        }
      }
    }
  },
  "nbformat": 4,
  "nbformat_minor": 2
}
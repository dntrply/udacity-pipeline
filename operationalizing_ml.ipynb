{
  "cells": [
    {
      "cell_type": "code",
      "source": [
        "# Project 2 of the Udacity Nanodegree - Operationalizing Machine Learning\r\n",
        "# The Bank Marketing data will be used - the challenge is to make a determination if the customer will make (or not make) a term deposit\r\n",
        "# Gather all imports here\r\n",
        "from azureml.core.workspace import Workspace\r\n",
        "from azureml.core.compute import ComputeTarget\r\n",
        "from azureml.exceptions import ComputeTargetException\r\n",
        "from azureml.core.compute.amlcompute import AmlCompute\r\n",
        "from azureml.core.experiment import Experiment\r\n",
        "from azureml.core.dataset import Dataset\r\n",
        "import pandas as pd\r\n"
      ],
      "outputs": [],
      "execution_count": 17,
      "metadata": {
        "gather": {
          "logged": 1628067551480
        }
      }
    },
    {
      "cell_type": "code",
      "source": [
        "# Get the workspace object which will be needed subsequently for most operations\r\n",
        "ws = Workspace.from_config()\r\n",
        "\r\n",
        "# Print some basic information from the workdpace as a FYI\r\n",
        "print(f'name:{ws.name}, location:{ws.location}\\nresource group:{ws.resource_group}, subscription id:{ws.subscription_id}')\r\n"
      ],
      "outputs": [
        {
          "output_type": "stream",
          "name": "stdout",
          "text": [
            "name:quick-starts-ws-153563, location:southcentralus\n",
            "resource group:aml-quickstarts-153563, subscription id:f5091c60-1c3c-430f-8d81-d802f6bf2414\n"
          ]
        }
      ],
      "execution_count": 2,
      "metadata": {
        "collapsed": true,
        "jupyter": {
          "source_hidden": false,
          "outputs_hidden": false
        },
        "nteract": {
          "transient": {
            "deleting": false
          }
        },
        "gather": {
          "logged": 1628063435402
        }
      }
    },
    {
      "cell_type": "code",
      "source": [
        "# Next, let's use if it exists, or create if required, a compute cluster to be used by the ML\r\n",
        "cc_name = \"CPU-CC\"  # CPU Compute Cluster\r\n",
        "\r\n",
        "# Access the compute cluster. If it exists, we will have the compute object. If it does not exist, an exception will be thrown upon which the compute cluster can be created\r\n",
        "try:\r\n",
        "    project_cc = ComputeTarget(workspace=ws, name=cc_name)\r\n",
        "    print(f'Compute Cluster target exists and we have a handle to the same')\r\n",
        "except ComputeTargetException:\r\n",
        "    # Failed to obtain the compute cluster object\r\n",
        "    # In all likelihood, a compute cluster of that name has not been created\r\n",
        "    # Attempt to create the compute cluster\r\n",
        "    # First set up the configuration\r\n",
        "\r\n",
        "    # Specify the configuration of the compute cluster\r\n",
        "    cc_cfg = AmlCompute.provisioning_configuration(vm_size='Standard_DS12_v2', min_nodes=1, max_nodes=6)\r\n",
        "    project_cc = ComputeTarget.create(workspace=ws, name=cc_name, provisioning_configuration=cc_cfg)\r\n",
        "\r\n",
        "# At this point - we have access to the compute cluster object. Wait for the compute target to complete provisioing\r\n",
        "project_cc.wait_for_completion(show_output='True')\r\n",
        "\r\n"
      ],
      "outputs": [
        {
          "output_type": "stream",
          "name": "stdout",
          "text": [
            "InProgress.....\n",
            "SucceededProvisioning operation finished, operation \"Succeeded\"\n",
            "Succeeded.....................\n",
            "AmlCompute wait for completion finished\n",
            "\n",
            "Minimum number of nodes requested have been provisioned\n"
          ]
        }
      ],
      "execution_count": 4,
      "metadata": {
        "collapsed": true,
        "jupyter": {
          "source_hidden": false,
          "outputs_hidden": false
        },
        "nteract": {
          "transient": {
            "deleting": false
          }
        },
        "gather": {
          "logged": 1628064961252
        }
      }
    },
    {
      "cell_type": "code",
      "source": [
        "# Create an experiment\r\n",
        "experiment_name = 'project2-exp'\r\n",
        "proj_experiment = Experiment(workspace=ws, name=experiment_name)"
      ],
      "outputs": [],
      "execution_count": 8,
      "metadata": {
        "collapsed": true,
        "jupyter": {
          "source_hidden": false,
          "outputs_hidden": false
        },
        "nteract": {
          "transient": {
            "deleting": false
          }
        },
        "gather": {
          "logged": 1628065755381
        }
      }
    },
    {
      "cell_type": "code",
      "source": [
        "proj_experiment"
      ],
      "outputs": [
        {
          "output_type": "execute_result",
          "execution_count": 9,
          "data": {
            "text/plain": "Experiment(Name: project2-exp,\nWorkspace: quick-starts-ws-153563)",
            "text/html": "<table style=\"width:100%\"><tr><th>Name</th><th>Workspace</th><th>Report Page</th><th>Docs Page</th></tr><tr><td>project2-exp</td><td>quick-starts-ws-153563</td><td><a href=\"https://ml.azure.com/experiments/id/994ceecc-4628-4a87-b9ec-4e5adfe70f91?wsid=/subscriptions/f5091c60-1c3c-430f-8d81-d802f6bf2414/resourcegroups/aml-quickstarts-153563/workspaces/quick-starts-ws-153563&amp;tid=660b3398-b80e-49d2-bc5b-ac1dc93b5254\" target=\"_blank\" rel=\"noopener\">Link to Azure Machine Learning studio</a></td><td><a href=\"https://docs.microsoft.com/en-us/python/api/azureml-core/azureml.core.experiment.Experiment?view=azure-ml-py\" target=\"_blank\" rel=\"noopener\">Link to Documentation</a></td></tr></table>"
          },
          "metadata": {}
        }
      ],
      "execution_count": 9,
      "metadata": {
        "collapsed": true,
        "jupyter": {
          "source_hidden": false,
          "outputs_hidden": false
        },
        "nteract": {
          "transient": {
            "deleting": false
          }
        },
        "gather": {
          "logged": 1628065768042
        }
      }
    },
    {
      "cell_type": "code",
      "source": [
        "print(f'{proj_experiment}')"
      ],
      "outputs": [
        {
          "output_type": "stream",
          "name": "stdout",
          "text": [
            "Experiment(Name: project2-exp,\n",
            "Workspace: quick-starts-ws-153563)\n"
          ]
        }
      ],
      "execution_count": 11,
      "metadata": {
        "collapsed": true,
        "jupyter": {
          "source_hidden": false,
          "outputs_hidden": false
        },
        "nteract": {
          "transient": {
            "deleting": false
          }
        },
        "gather": {
          "logged": 1628065829970
        }
      }
    },
    {
      "cell_type": "code",
      "source": [
        "# grab the data and create a dataset\r\n",
        "# we will use logic similar to the compute target above\r\n",
        "# See if the dataset already exists - if so, skip the Dataset creation pieces\r\n",
        "# The Bank Marketing data may be found at - https://automlsamplenotebookdata.blob.core.windows.net/automl-sample-notebook-data/bankmarketing_train.csv\r\n",
        "data_uri = 'https://automlsamplenotebookdata.blob.core.windows.net/automl-sample-notebook-data/bankmarketing_train.csv'\r\n",
        "\r\n",
        "ds_name = 'Bankdata'\r\n",
        "dsets = ws.datasets.keys()\r\n",
        "\r\n",
        "if ds_name in dsets:\r\n",
        "    # dataset exists\r\n",
        "    proj_ds = dsets[ds_name]\r\n",
        "else:\r\n",
        "    # Data set not found. Must create it\r\n",
        "    proj_ds = Dataset.Tabular.from_delimited_files(data_uri)\r\n",
        "    # Register the dataset so tat on repeated runs, teh data does not have to be fethed evey time\r\n",
        "    proj_ds.register(workspace=ws, name=ds_name, description='Marketing Bank data')\r\n",
        "\r\n",
        "    "
      ],
      "outputs": [],
      "execution_count": 15,
      "metadata": {
        "collapsed": true,
        "jupyter": {
          "source_hidden": false,
          "outputs_hidden": false
        },
        "nteract": {
          "transient": {
            "deleting": false
          }
        },
        "gather": {
          "logged": 1628067367783
        }
      }
    },
    {
      "cell_type": "code",
      "source": [
        "# Take a peek at the data by converting the same to a Pandas dataframe\r\n",
        "proj_df = proj_ds.to_pandas_dataframe()\r\n",
        "\r\n",
        "# print the data\r\n",
        "proj_df"
      ],
      "outputs": [
        {
          "output_type": "execute_result",
          "execution_count": 18,
          "data": {
            "text/plain": "       age          job  marital          education  default housing loan  \\\n0       57   technician  married        high.school       no      no  yes   \n1       55      unknown  married            unknown  unknown     yes   no   \n2       33  blue-collar  married           basic.9y       no      no   no   \n3       36       admin.  married        high.school       no      no   no   \n4       27    housemaid  married        high.school       no     yes   no   \n...    ...          ...      ...                ...      ...     ...  ...   \n32945   56    housemaid  married           basic.4y       no      no  yes   \n32946   37   management  married  university.degree       no      no  yes   \n32947   26       admin.   single  university.degree       no      no   no   \n32948   31  blue-collar   single           basic.9y       no      no   no   \n32949   39    housemaid  married           basic.4y       no      no   no   \n\n         contact month day_of_week  ...  campaign  pdays  previous  \\\n0       cellular   may         mon  ...         1    999         1   \n1      telephone   may         thu  ...         2    999         0   \n2       cellular   may         fri  ...         1    999         1   \n3      telephone   jun         fri  ...         4    999         0   \n4       cellular   jul         fri  ...         2    999         0   \n...          ...   ...         ...  ...       ...    ...       ...   \n32945   cellular   jul         mon  ...         1    999         0   \n32946   cellular   jul         fri  ...         7    999         0   \n32947   cellular   may         tue  ...         4    999         1   \n32948   cellular   apr         mon  ...         1    999         0   \n32949   cellular   aug         thu  ...         1    999         0   \n\n          poutcome emp.var.rate  cons.price.idx  cons.conf.idx  euribor3m  \\\n0          failure         -1.8          92.893          -46.2      1.299   \n1      nonexistent          1.1          93.994          -36.4      4.860   \n2          failure         -1.8          92.893          -46.2      1.313   \n3      nonexistent          1.4          94.465          -41.8      4.967   \n4      nonexistent          1.4          93.918          -42.7      4.963   \n...            ...          ...             ...            ...        ...   \n32945  nonexistent          1.4          93.918          -42.7      4.960   \n32946  nonexistent          1.4          93.918          -42.7      4.957   \n32947      failure         -1.8          92.893          -46.2      1.266   \n32948  nonexistent         -1.8          93.075          -47.1      1.405   \n32949  nonexistent          1.4          93.444          -36.1      4.963   \n\n       nr.employed   y  \n0           5099.1  no  \n1           5191.0  no  \n2           5099.1  no  \n3           5228.1  no  \n4           5228.1  no  \n...            ...  ..  \n32945       5228.1  no  \n32946       5228.1  no  \n32947       5099.1  no  \n32948       5099.1  no  \n32949       5228.1  no  \n\n[32950 rows x 21 columns]",
            "text/html": "<div>\n<style scoped>\n    .dataframe tbody tr th:only-of-type {\n        vertical-align: middle;\n    }\n\n    .dataframe tbody tr th {\n        vertical-align: top;\n    }\n\n    .dataframe thead th {\n        text-align: right;\n    }\n</style>\n<table border=\"1\" class=\"dataframe\">\n  <thead>\n    <tr style=\"text-align: right;\">\n      <th></th>\n      <th>age</th>\n      <th>job</th>\n      <th>marital</th>\n      <th>education</th>\n      <th>default</th>\n      <th>housing</th>\n      <th>loan</th>\n      <th>contact</th>\n      <th>month</th>\n      <th>day_of_week</th>\n      <th>...</th>\n      <th>campaign</th>\n      <th>pdays</th>\n      <th>previous</th>\n      <th>poutcome</th>\n      <th>emp.var.rate</th>\n      <th>cons.price.idx</th>\n      <th>cons.conf.idx</th>\n      <th>euribor3m</th>\n      <th>nr.employed</th>\n      <th>y</th>\n    </tr>\n  </thead>\n  <tbody>\n    <tr>\n      <th>0</th>\n      <td>57</td>\n      <td>technician</td>\n      <td>married</td>\n      <td>high.school</td>\n      <td>no</td>\n      <td>no</td>\n      <td>yes</td>\n      <td>cellular</td>\n      <td>may</td>\n      <td>mon</td>\n      <td>...</td>\n      <td>1</td>\n      <td>999</td>\n      <td>1</td>\n      <td>failure</td>\n      <td>-1.8</td>\n      <td>92.893</td>\n      <td>-46.2</td>\n      <td>1.299</td>\n      <td>5099.1</td>\n      <td>no</td>\n    </tr>\n    <tr>\n      <th>1</th>\n      <td>55</td>\n      <td>unknown</td>\n      <td>married</td>\n      <td>unknown</td>\n      <td>unknown</td>\n      <td>yes</td>\n      <td>no</td>\n      <td>telephone</td>\n      <td>may</td>\n      <td>thu</td>\n      <td>...</td>\n      <td>2</td>\n      <td>999</td>\n      <td>0</td>\n      <td>nonexistent</td>\n      <td>1.1</td>\n      <td>93.994</td>\n      <td>-36.4</td>\n      <td>4.860</td>\n      <td>5191.0</td>\n      <td>no</td>\n    </tr>\n    <tr>\n      <th>2</th>\n      <td>33</td>\n      <td>blue-collar</td>\n      <td>married</td>\n      <td>basic.9y</td>\n      <td>no</td>\n      <td>no</td>\n      <td>no</td>\n      <td>cellular</td>\n      <td>may</td>\n      <td>fri</td>\n      <td>...</td>\n      <td>1</td>\n      <td>999</td>\n      <td>1</td>\n      <td>failure</td>\n      <td>-1.8</td>\n      <td>92.893</td>\n      <td>-46.2</td>\n      <td>1.313</td>\n      <td>5099.1</td>\n      <td>no</td>\n    </tr>\n    <tr>\n      <th>3</th>\n      <td>36</td>\n      <td>admin.</td>\n      <td>married</td>\n      <td>high.school</td>\n      <td>no</td>\n      <td>no</td>\n      <td>no</td>\n      <td>telephone</td>\n      <td>jun</td>\n      <td>fri</td>\n      <td>...</td>\n      <td>4</td>\n      <td>999</td>\n      <td>0</td>\n      <td>nonexistent</td>\n      <td>1.4</td>\n      <td>94.465</td>\n      <td>-41.8</td>\n      <td>4.967</td>\n      <td>5228.1</td>\n      <td>no</td>\n    </tr>\n    <tr>\n      <th>4</th>\n      <td>27</td>\n      <td>housemaid</td>\n      <td>married</td>\n      <td>high.school</td>\n      <td>no</td>\n      <td>yes</td>\n      <td>no</td>\n      <td>cellular</td>\n      <td>jul</td>\n      <td>fri</td>\n      <td>...</td>\n      <td>2</td>\n      <td>999</td>\n      <td>0</td>\n      <td>nonexistent</td>\n      <td>1.4</td>\n      <td>93.918</td>\n      <td>-42.7</td>\n      <td>4.963</td>\n      <td>5228.1</td>\n      <td>no</td>\n    </tr>\n    <tr>\n      <th>...</th>\n      <td>...</td>\n      <td>...</td>\n      <td>...</td>\n      <td>...</td>\n      <td>...</td>\n      <td>...</td>\n      <td>...</td>\n      <td>...</td>\n      <td>...</td>\n      <td>...</td>\n      <td>...</td>\n      <td>...</td>\n      <td>...</td>\n      <td>...</td>\n      <td>...</td>\n      <td>...</td>\n      <td>...</td>\n      <td>...</td>\n      <td>...</td>\n      <td>...</td>\n      <td>...</td>\n    </tr>\n    <tr>\n      <th>32945</th>\n      <td>56</td>\n      <td>housemaid</td>\n      <td>married</td>\n      <td>basic.4y</td>\n      <td>no</td>\n      <td>no</td>\n      <td>yes</td>\n      <td>cellular</td>\n      <td>jul</td>\n      <td>mon</td>\n      <td>...</td>\n      <td>1</td>\n      <td>999</td>\n      <td>0</td>\n      <td>nonexistent</td>\n      <td>1.4</td>\n      <td>93.918</td>\n      <td>-42.7</td>\n      <td>4.960</td>\n      <td>5228.1</td>\n      <td>no</td>\n    </tr>\n    <tr>\n      <th>32946</th>\n      <td>37</td>\n      <td>management</td>\n      <td>married</td>\n      <td>university.degree</td>\n      <td>no</td>\n      <td>no</td>\n      <td>yes</td>\n      <td>cellular</td>\n      <td>jul</td>\n      <td>fri</td>\n      <td>...</td>\n      <td>7</td>\n      <td>999</td>\n      <td>0</td>\n      <td>nonexistent</td>\n      <td>1.4</td>\n      <td>93.918</td>\n      <td>-42.7</td>\n      <td>4.957</td>\n      <td>5228.1</td>\n      <td>no</td>\n    </tr>\n    <tr>\n      <th>32947</th>\n      <td>26</td>\n      <td>admin.</td>\n      <td>single</td>\n      <td>university.degree</td>\n      <td>no</td>\n      <td>no</td>\n      <td>no</td>\n      <td>cellular</td>\n      <td>may</td>\n      <td>tue</td>\n      <td>...</td>\n      <td>4</td>\n      <td>999</td>\n      <td>1</td>\n      <td>failure</td>\n      <td>-1.8</td>\n      <td>92.893</td>\n      <td>-46.2</td>\n      <td>1.266</td>\n      <td>5099.1</td>\n      <td>no</td>\n    </tr>\n    <tr>\n      <th>32948</th>\n      <td>31</td>\n      <td>blue-collar</td>\n      <td>single</td>\n      <td>basic.9y</td>\n      <td>no</td>\n      <td>no</td>\n      <td>no</td>\n      <td>cellular</td>\n      <td>apr</td>\n      <td>mon</td>\n      <td>...</td>\n      <td>1</td>\n      <td>999</td>\n      <td>0</td>\n      <td>nonexistent</td>\n      <td>-1.8</td>\n      <td>93.075</td>\n      <td>-47.1</td>\n      <td>1.405</td>\n      <td>5099.1</td>\n      <td>no</td>\n    </tr>\n    <tr>\n      <th>32949</th>\n      <td>39</td>\n      <td>housemaid</td>\n      <td>married</td>\n      <td>basic.4y</td>\n      <td>no</td>\n      <td>no</td>\n      <td>no</td>\n      <td>cellular</td>\n      <td>aug</td>\n      <td>thu</td>\n      <td>...</td>\n      <td>1</td>\n      <td>999</td>\n      <td>0</td>\n      <td>nonexistent</td>\n      <td>1.4</td>\n      <td>93.444</td>\n      <td>-36.1</td>\n      <td>4.963</td>\n      <td>5228.1</td>\n      <td>no</td>\n    </tr>\n  </tbody>\n</table>\n<p>32950 rows × 21 columns</p>\n</div>"
          },
          "metadata": {}
        }
      ],
      "execution_count": 18,
      "metadata": {
        "collapsed": true,
        "jupyter": {
          "source_hidden": false,
          "outputs_hidden": false
        },
        "nteract": {
          "transient": {
            "deleting": false
          }
        },
        "gather": {
          "logged": 1628067653378
        }
      }
    },
    {
      "cell_type": "code",
      "source": [],
      "outputs": [],
      "execution_count": null,
      "metadata": {
        "collapsed": true,
        "jupyter": {
          "source_hidden": false,
          "outputs_hidden": false
        },
        "nteract": {
          "transient": {
            "deleting": false
          }
        }
      }
    }
  ],
  "metadata": {
    "kernelspec": {
      "name": "python3-azureml",
      "language": "python",
      "display_name": "Python 3.6 - AzureML"
    },
    "language_info": {
      "name": "python",
      "version": "3.6.9",
      "mimetype": "text/x-python",
      "codemirror_mode": {
        "name": "ipython",
        "version": 3
      },
      "pygments_lexer": "ipython3",
      "nbconvert_exporter": "python",
      "file_extension": ".py"
    },
    "kernel_info": {
      "name": "python3-azureml"
    },
    "nteract": {
      "version": "nteract-front-end@1.0.0"
    },
    "microsoft": {
      "host": {
        "AzureML": {
          "notebookHasBeenCompleted": true
        }
      }
    }
  },
  "nbformat": 4,
  "nbformat_minor": 2
}
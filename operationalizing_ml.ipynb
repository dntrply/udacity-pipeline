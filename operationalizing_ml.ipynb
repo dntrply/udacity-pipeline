{
  "cells": [
    {
      "cell_type": "code",
      "source": [
        "# Project 2 of the Udacity Nanodegree - Operationalizing Machine Learning\r\n",
        "# The Bank Marketing data will be used - the challenge is to make a determination if the customer will make (or not make) a term deposit\r\n",
        "# Gather all imports here\r\n",
        "from azureml.core.workspace import Workspace\r\n",
        "from azureml.core import Datastore\r\n",
        "from azureml.core.compute import ComputeTarget\r\n",
        "from azureml.exceptions import ComputeTargetException\r\n",
        "from azureml.core.compute.amlcompute import AmlCompute\r\n",
        "from azureml.core.experiment import Experiment\r\n",
        "from azureml.core.dataset import Dataset\r\n",
        "from azureml.core.run import Run\r\n",
        "\r\n",
        "import pandas as pd\r\n",
        "\r\n",
        "from azureml.train.automl.automlconfig import AutoMLConfig\r\n",
        "\r\n",
        "from azureml.pipeline.steps.automl_step import AutoMLStep\r\n",
        "from azureml.pipeline.core import PipelineData\r\n",
        "from azureml.pipeline.core import TrainingOutput\r\n",
        "from azureml.pipeline.core.pipeline import Pipeline\r\n",
        "\r\n",
        "from azureml.pipeline.core.run import PipelineRun\r\n",
        "\r\n",
        "from azureml.widgets.run_details import RunDetails\r\n",
        "\r\n",
        "from azureml.core.webservice import Webservice\r\n"
      ],
      "outputs": [],
      "execution_count": 25,
      "metadata": {
        "gather": {
          "logged": 1628122332581
        }
      }
    },
    {
      "cell_type": "markdown",
      "source": [
        "$Step$ $2$\r\n",
        "# Step 2 - Automated ML Experiment"
      ],
      "metadata": {
        "nteract": {
          "transient": {
            "deleting": false
          }
        }
      }
    },
    {
      "cell_type": "code",
      "source": [
        "# Various Initializations\r\n",
        "\r\n",
        "# projct_folder is needed as part of teh AutoMLConfig\r\n",
        "PROJECT_FOLDER = 'operationalizing-ml'\r\n",
        "PROJECT_DEBUG_LOG = 'operationalizingml.log'\r\n",
        "PROJECT_LABEL_COLUN_NAME = 'y'\r\n",
        "\r\n",
        "PROJECT_AUTOMLSTEP_NAME = 'AutoML Training Step'\r\n",
        "\r\n",
        "PROJECT_EXPERIMENT_NAME_STEP2 = 'exp-project2-step2'\r\n",
        "\r\n",
        "PROJECT_PIPELINEDATA_METRICS_NAME = 'PipelineData_Metrics' # can only contain letters, digits and _\r\n",
        "PROJECT_PIPELINEDATA_MODEL_NAME = 'PipelineData_Model' # can only contain letters, digits and _\r\n",
        "PROJECT_PIPELINE_OUTPUT_METRICS_NAME = 'Pipeline Metrics Output' # Must be unique in a pipeline\r\n",
        "PROJECT_PIPELINE_OUTPUT_MODEL_NAME = 'Pipeline Model Output' # Must be unique in a pipeline\r\n",
        "PROJECT_PIPELINE_DESCRIPTION = 'AutoML Pipeline to train model on the marketing bank data'\r\n",
        "PROJECT_EXPERIMENT_NAME = 'AutoML Train Banking Data Experiment'\r\n",
        "PROJECT_DEPLOYED_MODEL_NAME = 'Bank Term Deposit Likelihood'"
      ],
      "outputs": [],
      "execution_count": 19,
      "metadata": {
        "collapsed": true,
        "jupyter": {
          "source_hidden": false,
          "outputs_hidden": false
        },
        "nteract": {
          "transient": {
            "deleting": false
          }
        },
        "gather": {
          "logged": 1628121998808
        }
      }
    },
    {
      "cell_type": "code",
      "source": [
        "# Get the workspace object which will be needed subsequently for most operations\r\n",
        "ws = Workspace.from_config()\r\n",
        "\r\n",
        "# Print some basic information from the workdpace as a FYI\r\n",
        "print(f'name:{ws.name}, location:{ws.location}\\nresource group:{ws.resource_group}, subscription id:{ws.subscription_id}')\r\n"
      ],
      "outputs": [
        {
          "output_type": "stream",
          "name": "stdout",
          "text": [
            "name:quick-starts-ws-153642, location:southcentralus\n",
            "resource group:aml-quickstarts-153642, subscription id:cdbe0b43-92a0-4715-838a-f2648cc7ad21\n"
          ]
        }
      ],
      "execution_count": 20,
      "metadata": {
        "collapsed": true,
        "jupyter": {
          "source_hidden": false,
          "outputs_hidden": false
        },
        "nteract": {
          "transient": {
            "deleting": false
          }
        },
        "gather": {
          "logged": 1628122000804
        }
      }
    },
    {
      "cell_type": "code",
      "source": [
        "# Retrive the datastore (we will use the default datastore)\r\n",
        "ds = ws.get_default_datastore()"
      ],
      "outputs": [],
      "execution_count": 21,
      "metadata": {
        "collapsed": true,
        "jupyter": {
          "source_hidden": false,
          "outputs_hidden": false
        },
        "nteract": {
          "transient": {
            "deleting": false
          }
        },
        "gather": {
          "logged": 1628122003615
        }
      }
    },
    {
      "cell_type": "code",
      "source": [
        "# Next, let's use if it exists, or create if required, a compute cluster to be used by the ML\r\n",
        "cc_name = \"CPU-CC\"  # CPU Compute Cluster\r\n",
        "\r\n",
        "# Access the compute cluster. If it exists, we will have the compute object. If it does not exist, an exception will be thrown upon which the compute cluster can be created\r\n",
        "try:\r\n",
        "    project_cc = ComputeTarget(workspace=ws, name=cc_name)\r\n",
        "    print(f'Compute Cluster target exists and we have a handle to the same')\r\n",
        "except ComputeTargetException:\r\n",
        "    # Failed to obtain the compute cluster object\r\n",
        "    # In all likelihood, a compute cluster of that name has not been created\r\n",
        "    # Attempt to create the compute cluster\r\n",
        "    # First set up the configuration\r\n",
        "\r\n",
        "    # Specify the configuration of the compute cluster\r\n",
        "    cc_cfg = AmlCompute.provisioning_configuration(vm_size='Standard_DS12_v2', min_nodes=1, max_nodes=6)\r\n",
        "    project_cc = ComputeTarget.create(workspace=ws, name=cc_name, provisioning_configuration=cc_cfg)\r\n",
        "\r\n",
        "# At this point - we have access to the compute cluster object. Wait for the compute target to complete provisioing\r\n",
        "project_cc.wait_for_completion(show_output='True')\r\n",
        "\r\n"
      ],
      "outputs": [],
      "execution_count": null,
      "metadata": {
        "collapsed": true,
        "jupyter": {
          "source_hidden": false,
          "outputs_hidden": false
        },
        "nteract": {
          "transient": {
            "deleting": false
          }
        },
        "gather": {
          "logged": 1628064961252
        }
      }
    },
    {
      "cell_type": "code",
      "source": [
        "# Create an experiment\r\n",
        "proj_experiment_step2 = Experiment(workspace=ws, name=PROJECT_EXPERIMENT_NAME_STEP2)"
      ],
      "outputs": [],
      "execution_count": 22,
      "metadata": {
        "collapsed": true,
        "jupyter": {
          "source_hidden": false,
          "outputs_hidden": false
        },
        "nteract": {
          "transient": {
            "deleting": false
          }
        },
        "gather": {
          "logged": 1628122011611
        }
      }
    },
    {
      "cell_type": "code",
      "source": [
        "proj_experiment_step2"
      ],
      "outputs": [
        {
          "output_type": "execute_result",
          "execution_count": 23,
          "data": {
            "text/plain": "Experiment(Name: exp-project2-step2,\nWorkspace: quick-starts-ws-153642)",
            "text/html": "<table style=\"width:100%\"><tr><th>Name</th><th>Workspace</th><th>Report Page</th><th>Docs Page</th></tr><tr><td>exp-project2-step2</td><td>quick-starts-ws-153642</td><td><a href=\"https://ml.azure.com/experiments/id/27ec2147-01d4-4b94-ad6d-738b0a26f208?wsid=/subscriptions/cdbe0b43-92a0-4715-838a-f2648cc7ad21/resourcegroups/aml-quickstarts-153642/workspaces/quick-starts-ws-153642&amp;tid=660b3398-b80e-49d2-bc5b-ac1dc93b5254\" target=\"_blank\" rel=\"noopener\">Link to Azure Machine Learning studio</a></td><td><a href=\"https://docs.microsoft.com/en-us/python/api/azureml-core/azureml.core.experiment.Experiment?view=azure-ml-py\" target=\"_blank\" rel=\"noopener\">Link to Documentation</a></td></tr></table>"
          },
          "metadata": {}
        }
      ],
      "execution_count": 23,
      "metadata": {
        "collapsed": true,
        "jupyter": {
          "source_hidden": false,
          "outputs_hidden": false
        },
        "nteract": {
          "transient": {
            "deleting": false
          }
        },
        "gather": {
          "logged": 1628122015098
        }
      }
    },
    {
      "cell_type": "code",
      "source": [
        "print(f'{proj_experiment_step2}')"
      ],
      "outputs": [
        {
          "output_type": "stream",
          "name": "stdout",
          "text": [
            "Experiment(Name: exp-project2-step2,\n",
            "Workspace: quick-starts-ws-153642)\n"
          ]
        }
      ],
      "execution_count": 24,
      "metadata": {
        "collapsed": true,
        "jupyter": {
          "source_hidden": false,
          "outputs_hidden": false
        },
        "nteract": {
          "transient": {
            "deleting": false
          }
        },
        "gather": {
          "logged": 1628122016046
        }
      }
    },
    {
      "cell_type": "code",
      "source": [
        "# grab the data and create a dataset\r\n",
        "# we will use logic similar to the compute target above\r\n",
        "# See if the dataset already exists - if so, skip the Dataset creation pieces\r\n",
        "# The Bank Marketing data may be found at - https://automlsamplenotebookdata.blob.core.windows.net/automl-sample-notebook-data/bankmarketing_train.csv\r\n",
        "data_uri = 'https://automlsamplenotebookdata.blob.core.windows.net/automl-sample-notebook-data/bankmarketing_train.csv'\r\n",
        "\r\n",
        "ds_name = 'Bankdata'\r\n",
        "dsets = ws.datasets.keys()\r\n",
        "\r\n",
        "if ds_name in dsets:\r\n",
        "    # dataset exists\r\n",
        "    proj_ds = dsets[ds_name]\r\n",
        "else:\r\n",
        "    # Data set not found. Must create it\r\n",
        "    proj_ds = Dataset.Tabular.from_delimited_files(data_uri)\r\n",
        "    # Register the dataset so tat on repeated runs, teh data does not have to be fethed evey time\r\n",
        "    proj_ds.register(workspace=ws, name=ds_name, description='Marketing Bank data')\r\n",
        "\r\n",
        "    "
      ],
      "outputs": [],
      "execution_count": null,
      "metadata": {
        "collapsed": true,
        "jupyter": {
          "source_hidden": false,
          "outputs_hidden": false
        },
        "nteract": {
          "transient": {
            "deleting": false
          }
        },
        "gather": {
          "logged": 1628067367783
        }
      }
    },
    {
      "cell_type": "code",
      "source": [
        "# Take a peek at the data by converting the same to a Pandas dataframe\r\n",
        "proj_df = proj_ds.to_pandas_dataframe()\r\n",
        "\r\n",
        "# print the data\r\n",
        "proj_df"
      ],
      "outputs": [],
      "execution_count": null,
      "metadata": {
        "collapsed": true,
        "jupyter": {
          "source_hidden": false,
          "outputs_hidden": false
        },
        "nteract": {
          "transient": {
            "deleting": false
          }
        },
        "gather": {
          "logged": 1628067653378
        }
      }
    },
    {
      "cell_type": "code",
      "source": [
        "proj_df.describe()"
      ],
      "outputs": [],
      "execution_count": null,
      "metadata": {
        "collapsed": true,
        "jupyter": {
          "source_hidden": false,
          "outputs_hidden": false
        },
        "nteract": {
          "transient": {
            "deleting": false
          }
        }
      }
    },
    {
      "cell_type": "code",
      "source": [
        "# Next - prepare for the AutoML experiment\r\n",
        "# Essentially, a pipeline is created and then submitted to be run\r\n",
        "\r\n",
        "# Creating the pipeline involves\r\n",
        "# * identifying the steps\r\n",
        "# * identifying the outputs\r\n",
        "#\r\n",
        "# Identify the pipeline steps:\r\n",
        "# Identifyingthe pipeline steps in turn involves specifing an AUtoMLStep\r\n",
        "# An AutoMLStep in turn is associated with the AutoML configuration\r\n",
        "\r\n"
      ],
      "outputs": [],
      "execution_count": null,
      "metadata": {
        "collapsed": true,
        "jupyter": {
          "source_hidden": false,
          "outputs_hidden": false
        },
        "nteract": {
          "transient": {
            "deleting": false
          }
        }
      }
    },
    {
      "cell_type": "code",
      "source": [
        "# THat's where we will start - with specifying an AutoMLConfig\r\n",
        "automl_config = AutoMLConfig(\r\n",
        "    task='classification',\r\n",
        "    path=PROJECT_FOLDER,\r\n",
        "    iterations=20,\r\n",
        "    primary_metric='AUC_weighted',\r\n",
        "    compute_target=proj_CC,\r\n",
        "    n_cross_validations=3,\r\n",
        "    featurization='auto',\r\n",
        "    max_concurrent_iterations=5,\r\n",
        "    experiment_timeout_hours=0.5,\r\n",
        "    enable_early_stoppint=True,\r\n",
        "    model_explainability=True,\r\n",
        "    debug_log=PROJECT_DEBUG_LOG,\r\n",
        "    training_data=proj_ds,\r\n",
        "    label_column_name=PROJECT_LABEL_COLUMN_NAME,\r\n",
        ")"
      ],
      "outputs": [],
      "execution_count": null,
      "metadata": {
        "collapsed": true,
        "jupyter": {
          "source_hidden": false,
          "outputs_hidden": false
        },
        "nteract": {
          "transient": {
            "deleting": false
          }
        }
      }
    },
    {
      "cell_type": "code",
      "source": [
        "# Submit/Run this experiment\r\n",
        "automl_run = proj_experiment_step2.submit(\r\n",
        "    config=automl_config,\r\n",
        "    show_output=True\r\n",
        ")\r\n",
        "\r\n",
        "\r\n",
        "automl_run.wait_for_completion(show_output=True)\r\n"
      ],
      "outputs": [],
      "execution_count": null,
      "metadata": {
        "collapsed": true,
        "jupyter": {
          "source_hidden": false,
          "outputs_hidden": false
        },
        "nteract": {
          "transient": {
            "deleting": false
          }
        }
      }
    },
    {
      "cell_type": "code",
      "source": [
        "# The above AutoML config feeds to the AutoMLStep.\r\n",
        "# The AutoMLStep needs outputs to be defined as well before the step iteslf can\r\n",
        "# be specified\r\n",
        "# Let's set up the two types of outputs - metrics and model\r\n",
        "#\r\n",
        "metrics_output = PipelineData(\r\n",
        "    name=PROJECT_PIPELINEDATA_METRICS_NAME,\r\n",
        "    datastore=ds,\r\n",
        "    pipeline_output_name=PROJECT_PIPELINE_OUTPUT_METRICS_NAME,\r\n",
        "    training_output=TrainingOutput(type='Metrics')\r\n",
        ")\r\n",
        "\r\n",
        "model_output = PipelineData(\r\n",
        "    name=PROJECT_PIPELINEDATA_MODEL_NAME,\r\n",
        "    datastore=ds,\r\n",
        "    pipeline_output_name=PROJECT_PIPELINE_OUTPUT_MODEL_NAME,\r\n",
        "    training_output=TrainingOutput(type='Model')\r\n",
        ")"
      ],
      "outputs": [],
      "execution_count": null,
      "metadata": {
        "collapsed": true,
        "jupyter": {
          "source_hidden": false,
          "outputs_hidden": false
        },
        "nteract": {
          "transient": {
            "deleting": false
          }
        },
        "gather": {
          "logged": 1628111654855
        }
      }
    },
    {
      "cell_type": "code",
      "source": [
        "# Next - build up the AutoMLStep\r\n",
        "automl_step=AutoMLStep(\r\n",
        "    name=PROJECT_AUTOMLSTEP_NAME,\r\n",
        "    automl_config=automl_config,\r\n",
        "    outeputs=[metrics_output, model_output],\r\n",
        "    allow_reuse=True\r\n",
        ")"
      ],
      "outputs": [],
      "execution_count": null,
      "metadata": {
        "collapsed": true,
        "jupyter": {
          "source_hidden": false,
          "outputs_hidden": false
        },
        "nteract": {
          "transient": {
            "deleting": false
          }
        }
      }
    },
    {
      "cell_type": "code",
      "source": [
        "# Now that we have the step and outputs specfied - we are ready\r\n",
        "# to prime the pipeline\r\n",
        "\r\n",
        "proj_pipeline = Pipeline(\r\n",
        "    workspace=ws,\r\n",
        "    steps=automl_step,\r\n",
        "    description=PROJECT_PIPELINE_DESCRIPTION,\r\n",
        "    default_datastore=ds\r\n",
        ")\r\n"
      ],
      "outputs": [],
      "execution_count": null,
      "metadata": {
        "collapsed": true,
        "jupyter": {
          "source_hidden": false,
          "outputs_hidden": false
        },
        "nteract": {
          "transient": {
            "deleting": false
          }
        }
      }
    },
    {
      "cell_type": "code",
      "source": [
        "# To perform teh training, the pipeline needs to be run\r\n",
        "# That is accomplished by submitting a run\r\n",
        "# NOte that any applicable pipeline parameers will be specified here\r\n",
        "# The output of the submit is the PipelineRun object which may be queried\r\n",
        "# for the run satus\r\n",
        "\r\n",
        "\r\n",
        "proj_pipeline_run = proj_pipeline.submit(\r\n",
        "    experiment_name=PROJECT_EXPERIMENT_NAME\r\n",
        ")"
      ],
      "outputs": [],
      "execution_count": null,
      "metadata": {
        "collapsed": true,
        "jupyter": {
          "source_hidden": false,
          "outputs_hidden": false
        },
        "nteract": {
          "transient": {
            "deleting": false
          }
        }
      }
    },
    {
      "cell_type": "code",
      "source": [
        "# use the RunDetails widget to gwt the details regarding the run in real time\r\n",
        "# Note that the display is updatd asyncronously and control is returned back to run the subsequent code\r\n",
        "RunDetails(proj_pipeline_run).show()"
      ],
      "outputs": [],
      "execution_count": null,
      "metadata": {
        "collapsed": true,
        "jupyter": {
          "source_hidden": false,
          "outputs_hidden": false
        },
        "nteract": {
          "transient": {
            "deleting": false
          }
        }
      }
    },
    {
      "cell_type": "code",
      "source": [
        "# Wait for the pipeline run to complte before we do anything else\r\n",
        "# Once complete, the staus is return and assert on the status of Finished\r\n",
        "assert(proj_pipeline_run.wait_for_completion(show_output=True) == 'Finished')\r\n",
        "\r\n",
        "# An AutoML training Pipeline run on the bank marketing data is completed"
      ],
      "outputs": [],
      "execution_count": null,
      "metadata": {
        "collapsed": true,
        "jupyter": {
          "source_hidden": false,
          "outputs_hidden": false
        },
        "nteract": {
          "transient": {
            "deleting": false
          }
        }
      }
    },
    {
      "cell_type": "markdown",
      "source": [
        "$Step$ $2$\r\n",
        "# Capture appropriate screenshots\r\n",
        "\r\n",
        "#### This marks the end of Step 2 - Automated ML Experiment of the project"
      ],
      "metadata": {
        "nteract": {
          "transient": {
            "deleting": false
          }
        }
      }
    },
    {
      "cell_type": "markdown",
      "source": [
        "$Step$ $3$\r\n",
        "# Step 3 - Deploy the Best Model\r\n",
        "Per various knowledge base articles - this is done inthe AutoML Studdio and not programmatically\r\n",
        "Note that the deployed model will be associated with a name (like 'Bank Term Deposit Likelihood') and the name used will be reeferenced below\r\n",
        "to turn on Application Insights\r\n",
        "\r\n",
        "# Capture appropriate screenshots\r\n",
        "\r\n",
        "##### End of Step 3"
      ],
      "metadata": {
        "nteract": {
          "transient": {
            "deleting": false
          }
        }
      }
    },
    {
      "cell_type": "markdown",
      "source": [
        "$Step$ $4$\r\n",
        "# Step 4 - Enable Logging (Application Insights)"
      ],
      "metadata": {
        "nteract": {
          "transient": {
            "deleting": false
          }
        }
      }
    },
    {
      "cell_type": "code",
      "source": [
        "# To enable ApplicationInsights on the service (webservice), \r\n",
        "# * first access the endpoint using the name assigned at the time of deployment\r\n",
        "# * next update webservice parameters such as enabling application insights (enable_app_insights)\r\n",
        "\r\n",
        "proj_webservice = Webservice(\r\n",
        "    workspace = ws,\r\n",
        "    name=PROJECT_DEPLYED_MODEL_NAME\r\n",
        ")\r\n",
        "# Noe \r\n",
        "enable_app_insights\r\n",
        "# Noe \r\n",
        "proj_webservice.update(\r\n",
        "    enable_app_insights=True\r\n",
        ")\r\n",
        "\r\n",
        "# At this point application insights (logging is enabled) and can be\r\n",
        "# checked in the GUI in AutoML studio\r\n"
      ],
      "outputs": [],
      "execution_count": null,
      "metadata": {
        "collapsed": true,
        "jupyter": {
          "source_hidden": false,
          "outputs_hidden": false
        },
        "nteract": {
          "transient": {
            "deleting": false
          }
        }
      }
    },
    {
      "cell_type": "markdown",
      "source": [
        "$Step$ $4$\r\n",
        "# Next, \r\n",
        "Run the provided logs.py (making the appropriate changes to the code to reference the correct URI)\r\n",
        "Ensure logs are displayed\r\n",
        "\r\n",
        "# Take screesnhots as required\r\n",
        "\r\n",
        "#### End of Step 4 - Enable Logging (applicationInsights)"
      ],
      "metadata": {
        "nteract": {
          "transient": {
            "deleting": false
          }
        }
      }
    },
    {
      "cell_type": "markdown",
      "source": [
        "# Step 5 - Swagger Documentation\r\n",
        "\r\n",
        "Step 5 is not implemented as part of this notebook. It is executed independently by\r\n",
        "running the scripts as requested\r\n",
        "\r\n",
        "# Capture appropriate screenshots\r\n",
        "\r\n",
        "##### End of Step 5 - Swagger Documentation"
      ],
      "metadata": {
        "nteract": {
          "transient": {
            "deleting": false
          }
        }
      }
    },
    {
      "cell_type": "markdown",
      "source": [
        "# Step 6 - Consume Model Endpoints\r\n",
        "Step 6 also is not part of this notebook. The project instructions are to be followed and the\r\n",
        "independent scripts use to complete this step.import\r\n",
        "\r\n",
        "## Capture appropriate screenshots.\r\n",
        "\r\n",
        "#### End of Step 6 - Consume Model endpoints"
      ],
      "metadata": {
        "nteract": {
          "transient": {
            "deleting": false
          }
        }
      }
    }
  ],
  "metadata": {
    "kernelspec": {
      "name": "python3-azureml",
      "language": "python",
      "display_name": "Python 3.6 - AzureML"
    },
    "language_info": {
      "name": "python",
      "version": "3.6.9",
      "mimetype": "text/x-python",
      "codemirror_mode": {
        "name": "ipython",
        "version": 3
      },
      "pygments_lexer": "ipython3",
      "nbconvert_exporter": "python",
      "file_extension": ".py"
    },
    "kernel_info": {
      "name": "python3-azureml"
    },
    "nteract": {
      "version": "nteract-front-end@1.0.0"
    },
    "microsoft": {
      "host": {
        "AzureML": {
          "notebookHasBeenCompleted": true
        }
      }
    }
  },
  "nbformat": 4,
  "nbformat_minor": 2
}